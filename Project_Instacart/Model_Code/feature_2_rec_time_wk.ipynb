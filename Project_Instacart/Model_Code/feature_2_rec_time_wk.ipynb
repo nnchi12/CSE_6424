{
 "cells": [
  {
   "cell_type": "code",
   "execution_count": 1,
   "metadata": {},
   "outputs": [],
   "source": [
    "from sklearn.ensemble import AdaBoostClassifier\n",
    "from sklearn.tree import DecisionTreeClassifier\n",
    "from sklearn.linear_model import LogisticRegression\n",
    "from sklearn.model_selection import train_test_split\n",
    "from sklearn.metrics import accuracy_score\n",
    "import pandas as pd\n",
    "\n",
    "df = pd.read_csv('/instacart.csv')"
   ]
  },
  {
   "cell_type": "code",
   "execution_count": 2,
   "metadata": {},
   "outputs": [
    {
     "name": "stdout",
     "output_type": "stream",
     "text": [
      "Accuracy for Decision Tree: 0.6407522255907976\n",
      "Accuracy for Logistic Regression: 0.6873860666351066\n",
      "Accuracy for AdaBoost: 0.7018783167268446\n"
     ]
    }
   ],
   "source": [
    "from sklearn.impute import SimpleImputer\n",
    "\n",
    "# Data Preparation\n",
    "X = df[['user_id', 'product_id', 'order_number', 'order_dow', 'order_hour_of_day', 'days_since_prior_order']]\n",
    "y = df['reordered']\n",
    "\n",
    "# Train-Test Split\n",
    "X_train, X_test, y_train, y_test = train_test_split(X, y, test_size=0.2, random_state=42)\n",
    "\n",
    "# Impute missing values for training set\n",
    "imputer = SimpleImputer(strategy=\"median\")\n",
    "imputer.fit(X_train)\n",
    "\n",
    "# Transform both training and test sets\n",
    "X_train_imputed = pd.DataFrame(imputer.transform(X_train), columns=X.columns)\n",
    "X_test_imputed = pd.DataFrame(imputer.transform(X_test), columns=X.columns)\n",
    "\n",
    "# Model Training\n",
    "models = {\n",
    "    'Decision Tree': DecisionTreeClassifier(),\n",
    "    'Logistic Regression': LogisticRegression(),\n",
    "    'AdaBoost': AdaBoostClassifier()\n",
    "}\n",
    "\n",
    "best_accuracy = 0\n",
    "best_model = None\n",
    "\n",
    "for name, model in models.items():\n",
    "    model.fit(X_train_imputed, y_train)\n",
    "    y_pred = model.predict(X_test_imputed)\n",
    "    acc = accuracy_score(y_test, y_pred)\n",
    "    print(f\"Accuracy for {name}: {acc}\")\n",
    "    \n",
    "    if acc > best_accuracy:\n",
    "        best_accuracy = acc\n",
    "        best_model = model\n",
    "\n",
    "# Recommendations and Best Time for All Users\n",
    "all_users = df['user_id'].unique()\n",
    "results = []\n",
    "\n",
    "for user in all_users:\n",
    "    user_data = df[df['user_id'] == user]\n",
    "    user_X = user_data[['user_id', 'product_id', 'order_number', 'order_dow', 'order_hour_of_day', 'days_since_prior_order']]\n",
    "    \n",
    "    # Impute missing values for new data\n",
    "    user_X_imputed = pd.DataFrame(imputer.transform(user_X), columns=user_X.columns)\n",
    "    \n",
    "    # Make predictions\n",
    "    predictions = best_model.predict(user_X_imputed)\n",
    "    \n",
    "    # Top 3 Products\n",
    "    recommended_products = user_data[predictions == 1]\n",
    "    top_3_products = recommended_products['product_id'].value_counts().index[:3]\n",
    "    \n",
    "    for product in top_3_products:\n",
    "        product_data = user_data[user_data['product_id'] == product]\n",
    "        \n",
    "        # Best Time and Day of Week\n",
    "        best_dow = product_data['order_dow'].mode()[0]\n",
    "        best_hour = product_data['order_hour_of_day'].mode()[0]\n",
    "        \n",
    "        results.append([user, product, best_dow, best_hour])\n",
    "\n",
    "# Save to CSV\n",
    "top_3_rec_df = pd.DataFrame(results, columns=['user_id', 'recommended_product_id', 'best_dow', 'best_hour'])\n",
    "\n",
    "# Writing to a specific path with a specific file name\n",
    "output_path = 'path'\n",
    "output_filename = 'top_3_rec_time_week.csv'\n",
    "full_output_path = output_path + output_filename\n",
    "\n",
    "top_3_rec_df.to_csv(full_output_path, index=False)\n",
    "\n"
   ]
  },
  {
   "cell_type": "code",
   "execution_count": null,
   "metadata": {},
   "outputs": [],
   "source": []
  }
 ],
 "metadata": {
  "kernelspec": {
   "display_name": "DL",
   "language": "python",
   "name": "python3"
  },
  "language_info": {
   "codemirror_mode": {
    "name": "ipython",
    "version": 3
   },
   "file_extension": ".py",
   "mimetype": "text/x-python",
   "name": "python",
   "nbconvert_exporter": "python",
   "pygments_lexer": "ipython3",
   "version": "3.11.4"
  }
 },
 "nbformat": 4,
 "nbformat_minor": 2
}
