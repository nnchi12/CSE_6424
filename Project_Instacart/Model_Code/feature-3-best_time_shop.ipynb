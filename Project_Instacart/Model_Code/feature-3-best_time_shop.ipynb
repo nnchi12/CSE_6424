{
 "cells": [
  {
   "cell_type": "code",
   "execution_count": 33,
   "metadata": {},
   "outputs": [
    {
     "name": "stdout",
     "output_type": "stream",
     "text": [
      "Linear Regression MSE: 10.77372270663572\n",
      "Random Forest MSE: 13.48993661807772\n",
      "XGBoost MSE: 14.073575342400153\n"
     ]
    }
   ],
   "source": [
    "import pandas as pd\n",
    "from sklearn.model_selection import train_test_split\n",
    "from sklearn.linear_model import LinearRegression\n",
    "from sklearn.ensemble import RandomForestRegressor\n",
    "from sklearn.metrics import mean_squared_error\n",
    "import xgboost as xgb\n",
    "from sklearn.impute import SimpleImputer\n",
    "\n",
    "\n",
    "df = pd.read_csv('/instacart.csv')\n",
    "df = df.dropna(subset=['order_dow', 'order_hour_of_day', 'department_id'])\n",
    "df.drop(['order_id', 'user_id', 'product_id', 'product_name', 'eval_set', 'department', 'aisle', 'aisle_id'], axis=1, inplace=True)\n",
    "\n",
    "X = df.drop(['order_dow', 'order_hour_of_day'], axis=1)\n",
    "y = df[['order_dow', 'order_hour_of_day']]\n",
    "\n",
    "X_train, X_test, y_train, y_test = train_test_split(X, y, test_size=0.2, random_state=42)\n",
    "\n",
    "# Create an imputer object with a mean filling strategy\n",
    "imputer = SimpleImputer(strategy='mean')\n",
    "\n",
    "# Fit the imputer using the training data and transform both the training data and full dataset\n",
    "imputer.fit(X_train)\n",
    "X_train = imputer.transform(X_train)\n",
    "X_test = imputer.transform(X_test)\n",
    "X_imputed = imputer.transform(X)\n",
    "\n",
    "# # Remove rows with missing values\n",
    "# X_train.dropna(inplace=True)\n",
    "# y_train = y_train.loc[X_train.index]\n",
    "# X_test.dropna(inplace=True)\n",
    "# y_test = y_test.loc[X_test.index]\n",
    "\n",
    "# Linear Regression\n",
    "lr = LinearRegression()\n",
    "lr.fit(X_train, y_train)\n",
    "lr_pred = lr.predict(X_test)\n",
    "\n",
    "# Random Forest\n",
    "rf = RandomForestRegressor()\n",
    "rf.fit(X_train, y_train)\n",
    "rf_pred = rf.predict(X_test)\n",
    "\n",
    "# XGBoost\n",
    "xg_reg = xgb.XGBRegressor()\n",
    "xg_reg.fit(X_train, y_train)\n",
    "xg_pred = xg_reg.predict(X_test)\n",
    "\n",
    "lr_mse = mean_squared_error(y_test, lr_pred, multioutput='uniform_average')\n",
    "rf_mse = mean_squared_error(y_test, rf_pred, multioutput='uniform_average')\n",
    "xg_mse = mean_squared_error(y_test, xg_pred, multioutput='uniform_average')\n",
    "\n",
    "print(f'Linear Regression MSE: {lr_mse}')\n",
    "print(f'Random Forest MSE: {rf_mse}')\n",
    "print(f'XGBoost MSE: {xg_mse}')\n",
    "\n",
    "best_model_mse = min(lr_mse, rf_mse, xg_mse)\n",
    "\n",
    "if best_model_mse == lr_mse:\n",
    "    best_model = lr\n",
    "elif best_model_mse == rf_mse:\n",
    "    best_model = rf\n",
    "else:\n",
    "    best_model = xg_reg\n",
    "\n",
    "# Run the best model to make predictions\n",
    "# Remove rows with missing values from the full dataset\n",
    "X.dropna(inplace=True)\n",
    "y = y.loc[X.index]\n",
    "predictions = best_model.predict(X_imputed)"
   ]
  },
  {
   "cell_type": "code",
   "execution_count": 34,
   "metadata": {},
   "outputs": [],
   "source": [
    "df['predicted_order_dow'], df['predicted_order_hour_of_day'] = predictions[:, 0], predictions[:, 1]\n",
    "\n",
    "best_time_df = df.groupby('department_id')[['predicted_order_dow', 'predicted_order_hour_of_day']].agg(lambda x: x.value_counts().index[0])\n",
    "best_time_df.reset_index(inplace=True)\n",
    "\n",
    "# Writing to a specific path with a specific file name\n",
    "output_path = 'path'\n",
    "output_filename = 'best_time_to_shop_by_department.csv'\n",
    "full_output_path = output_path + output_filename\n",
    "\n",
    "best_time_df.to_csv(full_output_path, index=False)\n"
   ]
  },
  {
   "cell_type": "code",
   "execution_count": null,
   "metadata": {},
   "outputs": [],
   "source": []
  }
 ],
 "metadata": {
  "kernelspec": {
   "display_name": "DL",
   "language": "python",
   "name": "python3"
  },
  "language_info": {
   "codemirror_mode": {
    "name": "ipython",
    "version": 3
   },
   "file_extension": ".py",
   "mimetype": "text/x-python",
   "name": "python",
   "nbconvert_exporter": "python",
   "pygments_lexer": "ipython3",
   "version": "3.11.4"
  }
 },
 "nbformat": 4,
 "nbformat_minor": 2
}
