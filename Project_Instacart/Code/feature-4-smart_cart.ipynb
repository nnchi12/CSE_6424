{
 "cells": [
  {
   "cell_type": "code",
   "execution_count": 1,
   "metadata": {},
   "outputs": [],
   "source": [
    "import pandas as pd\n",
    "from sklearn.model_selection import train_test_split\n",
    "from sklearn.linear_model import LogisticRegression\n",
    "from sklearn.ensemble import AdaBoostClassifier\n",
    "from sklearn.tree import DecisionTreeClassifier\n",
    "from sklearn.metrics import accuracy_score\n",
    "from sklearn.impute import SimpleImputer\n",
    "\n",
    "df = pd.read_csv('instacart.csv')\n",
    "\n"
   ]
  },
  {
   "cell_type": "code",
   "execution_count": 4,
   "metadata": {},
   "outputs": [
    {
     "name": "stdout",
     "output_type": "stream",
     "text": [
      "Accuracy for Decision Tree: 0.6775\n",
      "Accuracy for Logistic Regression: 0.6575\n",
      "Accuracy for AdaBoost: 0.7025\n"
     ]
    }
   ],
   "source": [
    "# Assuming df is your DataFrame\n",
    "# Data Preparation\n",
    "X = df[['user_id', 'product_id', 'order_number', 'order_dow', 'order_hour_of_day', 'days_since_prior_order']]\n",
    "y = df['reordered']\n",
    "\n",
    "# Impute NaN values\n",
    "imputer = SimpleImputer(strategy=\"median\")\n",
    "X_imputed = pd.DataFrame(imputer.fit_transform(X), columns=X.columns)\n",
    "\n",
    "# Train-Test Split\n",
    "X_train, X_test, y_train, y_test = train_test_split(X_imputed, y, test_size=0.2, random_state=42)\n",
    "\n",
    "# Model Training\n",
    "models = {\n",
    "    'Decision Tree': DecisionTreeClassifier(),\n",
    "    'Logistic Regression': LogisticRegression(),\n",
    "    'AdaBoost': AdaBoostClassifier()\n",
    "}\n",
    "\n",
    "best_accuracy = 0\n",
    "best_model = None\n",
    "\n",
    "for name, model in models.items():\n",
    "    model.fit(X_train, y_train)\n",
    "    y_pred = model.predict(X_test)\n",
    "    acc = accuracy_score(y_test, y_pred)\n",
    "    print(f\"Accuracy for {name}: {acc}\")\n",
    "    \n",
    "    if acc > best_accuracy:\n",
    "        best_accuracy = acc\n",
    "        best_model = model\n",
    "\n",
    "# Smart Cart Optimization for All Users\n",
    "all_users = df['user_id'].unique()\n",
    "results = []\n",
    "\n",
    "for user in all_users:\n",
    "    user_data = df[df['user_id'] == user]\n",
    "    user_X = user_data[['user_id', 'product_id', 'order_number', 'order_dow', 'order_hour_of_day', 'days_since_prior_order']]\n",
    "    \n",
    "    # Impute missing values\n",
    "    user_X_imputed = pd.DataFrame(imputer.transform(user_X), columns=user_X.columns)\n",
    "    \n",
    "    # Make predictions\n",
    "    predictions = best_model.predict(user_X_imputed)\n",
    "    \n",
    "    # Recommended Products\n",
    "    recommended_products = user_data[predictions == 1]\n",
    "    \n",
    "    if not recommended_products.empty:\n",
    "        # Best Time and Day of Week to Shop\n",
    "        best_dow = recommended_products['order_dow'].mode()[0] if not recommended_products['order_dow'].mode().empty else None\n",
    "        best_hour = recommended_products['order_hour_of_day'].mode()[0] if not recommended_products['order_hour_of_day'].mode().empty else None\n",
    "        \n",
    "        # Creating a shopping cart with top 10 items\n",
    "        top_10_products = recommended_products['product_id'].value_counts().index[:10]\n",
    "        cart = top_10_products.tolist()\n",
    "        \n",
    "        results.append([user, best_dow, best_hour, ','.join(map(str, cart))])\n",
    "    else:\n",
    "        results.append([user, None, None, None])\n",
    "\n",
    "# Save to CSV\n",
    "smart_cart_df = pd.DataFrame(results, columns=['user_id', 'best_dow', 'best_hour', 'shopping_cart'])\n",
    "\n",
    "# Writing to a specific path with a specific file name\n",
    "output_path = 'path'\n",
    "output_filename = 'smart_cart.csv'\n",
    "full_output_path = output_path + output_filename\n",
    "\n",
    "smart_cart_df.to_csv(full_output_path, index=False)\n"
   ]
  },
  {
   "cell_type": "code",
   "execution_count": null,
   "metadata": {},
   "outputs": [],
   "source": []
  }
 ],
 "metadata": {
  "kernelspec": {
   "display_name": "DL",
   "language": "python",
   "name": "python3"
  },
  "language_info": {
   "codemirror_mode": {
    "name": "ipython",
    "version": 3
   },
   "file_extension": ".py",
   "mimetype": "text/x-python",
   "name": "python",
   "nbconvert_exporter": "python",
   "pygments_lexer": "ipython3",
   "version": "3.11.4"
  }
 },
 "nbformat": 4,
 "nbformat_minor": 2
}
